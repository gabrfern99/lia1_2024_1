{
 "cells": [
  {
   "cell_type": "markdown",
   "id": "677e4ab7",
   "metadata": {
    "papermill": {
     "duration": 0.011396,
     "end_time": "2024-03-27T13:09:59.211539",
     "exception": false,
     "start_time": "2024-03-27T13:09:59.200143",
     "status": "completed"
    },
    "tags": []
   },
   "source": [
    "<hr style=\"height:10px\"> \n",
    " \n",
    "<div class='container2'>\n",
    "\t\t<div>\n",
    "\t\t\t<img src='https://d3g5ywftkpzr0e.cloudfront.net/wp-content/uploads/2023/07/13220529/Artificial-Intelligence-in-Indonesia-The-current-state-and-its-opportunities-1200x675.jpeg' ALIGN='left' style='width:10em'>\n",
    "\t\t</div>\t\n",
    "\t<div style='padding: 0 7em 2em 12em;'>\n",
    "\t<h1>Laboratório de Inovação e Automação 1 (LIA 1)</h1>\n",
    "\t<div style=\"font-size:12pt;float:left;\"> 2024/1 | 24M34 | Sala 200 CAE</div><br><br>\n",
    "    <div style=\"font-size:12pt;float:left;\"><b>Projetos de Inteligência Artificial</b></div>\n",
    "\t</div>\n",
    "</div>\n",
    "\n",
    "\n",
    " <hr style=\"height:5px\"> \n",
    "\n",
    "    \n",
    "<h2>Introdução ao Ambiente de Projetos - Python</h2>\n",
    "\n",
    "Notebook desenvolvido por: <a href=\"http://lattes.cnpq.br/1346824250595330\">Prof. Dr. Adriano C. Santana</a>\n",
    "\n",
    " <hr style=\"height:2px\"> \n"
   ]
  },
  {
   "cell_type": "markdown",
   "id": "5302b631",
   "metadata": {
    "papermill": {
     "duration": 0.009133,
     "end_time": "2024-03-27T13:09:59.230841",
     "exception": false,
     "start_time": "2024-03-27T13:09:59.221708",
     "status": "completed"
    },
    "tags": []
   },
   "source": [
    "[Tudo sobre o Python, clique aqui!](https://docs.python.org/pt-br/3/tutorial/)"
   ]
  },
  {
   "cell_type": "code",
   "execution_count": null,
   "id": "51301f41",
   "metadata": {
    "papermill": {
     "duration": 0.009543,
     "end_time": "2024-03-27T13:09:59.249631",
     "exception": false,
     "start_time": "2024-03-27T13:09:59.240088",
     "status": "completed"
    },
    "tags": []
   },
   "outputs": [],
   "source": []
  },
  {
   "cell_type": "code",
   "execution_count": 1,
   "id": "3e7f5f73",
   "metadata": {
    "execution": {
     "iopub.execute_input": "2024-03-27T13:09:59.270205Z",
     "iopub.status.busy": "2024-03-27T13:09:59.269695Z",
     "iopub.status.idle": "2024-03-27T13:09:59.284474Z",
     "shell.execute_reply": "2024-03-27T13:09:59.283306Z"
    },
    "papermill": {
     "duration": 0.028079,
     "end_time": "2024-03-27T13:09:59.286988",
     "exception": false,
     "start_time": "2024-03-27T13:09:59.258909",
     "status": "completed"
    },
    "tags": []
   },
   "outputs": [
    {
     "name": "stdout",
     "output_type": "stream",
     "text": [
      "A versão em uso é 3.10.13.\n"
     ]
    }
   ],
   "source": [
    "from platform import python_version\n",
    "print(f'A versão em uso é {python_version()}.')"
   ]
  },
  {
   "cell_type": "code",
   "execution_count": 2,
   "id": "8ded8e28",
   "metadata": {
    "execution": {
     "iopub.execute_input": "2024-03-27T13:09:59.307886Z",
     "iopub.status.busy": "2024-03-27T13:09:59.307485Z",
     "iopub.status.idle": "2024-03-27T13:09:59.316311Z",
     "shell.execute_reply": "2024-03-27T13:09:59.315240Z"
    },
    "papermill": {
     "duration": 0.022197,
     "end_time": "2024-03-27T13:09:59.318617",
     "exception": false,
     "start_time": "2024-03-27T13:09:59.296420",
     "status": "completed"
    },
    "tags": []
   },
   "outputs": [
    {
     "data": {
      "text/plain": [
       "'3.10.13'"
      ]
     },
     "execution_count": 2,
     "metadata": {},
     "output_type": "execute_result"
    }
   ],
   "source": [
    "python_version()"
   ]
  },
  {
   "cell_type": "code",
   "execution_count": 3,
   "id": "7bbc9a9c",
   "metadata": {
    "execution": {
     "iopub.execute_input": "2024-03-27T13:09:59.340312Z",
     "iopub.status.busy": "2024-03-27T13:09:59.339456Z",
     "iopub.status.idle": "2024-03-27T13:09:59.345568Z",
     "shell.execute_reply": "2024-03-27T13:09:59.344057Z"
    },
    "papermill": {
     "duration": 0.019537,
     "end_time": "2024-03-27T13:09:59.347971",
     "exception": false,
     "start_time": "2024-03-27T13:09:59.328434",
     "status": "completed"
    },
    "tags": []
   },
   "outputs": [
    {
     "name": "stdout",
     "output_type": "stream",
     "text": [
      "Bye bye, World!\n"
     ]
    }
   ],
   "source": [
    "# Verificar se o Python está funcionando\n",
    "print('Bye bye, World!')"
   ]
  },
  {
   "cell_type": "markdown",
   "id": "952b04f1",
   "metadata": {
    "papermill": {
     "duration": 0.009308,
     "end_time": "2024-03-27T13:09:59.367078",
     "exception": false,
     "start_time": "2024-03-27T13:09:59.357770",
     "status": "completed"
    },
    "tags": []
   },
   "source": [
    "#### Operadores Aritméticos"
   ]
  },
  {
   "cell_type": "code",
   "execution_count": 4,
   "id": "efaaa418",
   "metadata": {
    "execution": {
     "iopub.execute_input": "2024-03-27T13:09:59.388702Z",
     "iopub.status.busy": "2024-03-27T13:09:59.388276Z",
     "iopub.status.idle": "2024-03-27T13:09:59.394602Z",
     "shell.execute_reply": "2024-03-27T13:09:59.393257Z"
    },
    "papermill": {
     "duration": 0.020201,
     "end_time": "2024-03-27T13:09:59.396748",
     "exception": false,
     "start_time": "2024-03-27T13:09:59.376547",
     "status": "completed"
    },
    "tags": []
   },
   "outputs": [
    {
     "data": {
      "text/plain": [
       "2"
      ]
     },
     "execution_count": 4,
     "metadata": {},
     "output_type": "execute_result"
    }
   ],
   "source": [
    "# Adição\n",
    "1 + 1"
   ]
  },
  {
   "cell_type": "code",
   "execution_count": 5,
   "id": "5b482bb7",
   "metadata": {
    "execution": {
     "iopub.execute_input": "2024-03-27T13:09:59.418959Z",
     "iopub.status.busy": "2024-03-27T13:09:59.418534Z",
     "iopub.status.idle": "2024-03-27T13:09:59.424906Z",
     "shell.execute_reply": "2024-03-27T13:09:59.424024Z"
    },
    "papermill": {
     "duration": 0.020411,
     "end_time": "2024-03-27T13:09:59.426935",
     "exception": false,
     "start_time": "2024-03-27T13:09:59.406524",
     "status": "completed"
    },
    "tags": []
   },
   "outputs": [
    {
     "data": {
      "text/plain": [
       "1"
      ]
     },
     "execution_count": 5,
     "metadata": {},
     "output_type": "execute_result"
    }
   ],
   "source": [
    "# Subtração\n",
    "2 - 1"
   ]
  },
  {
   "cell_type": "code",
   "execution_count": 6,
   "id": "50eff47b",
   "metadata": {
    "execution": {
     "iopub.execute_input": "2024-03-27T13:09:59.448809Z",
     "iopub.status.busy": "2024-03-27T13:09:59.448431Z",
     "iopub.status.idle": "2024-03-27T13:09:59.455108Z",
     "shell.execute_reply": "2024-03-27T13:09:59.453943Z"
    },
    "papermill": {
     "duration": 0.020394,
     "end_time": "2024-03-27T13:09:59.457415",
     "exception": false,
     "start_time": "2024-03-27T13:09:59.437021",
     "status": "completed"
    },
    "tags": []
   },
   "outputs": [
    {
     "data": {
      "text/plain": [
       "4"
      ]
     },
     "execution_count": 6,
     "metadata": {},
     "output_type": "execute_result"
    }
   ],
   "source": [
    "# Multiplicação\n",
    "2 * 2"
   ]
  },
  {
   "cell_type": "code",
   "execution_count": 7,
   "id": "b2b64874",
   "metadata": {
    "execution": {
     "iopub.execute_input": "2024-03-27T13:09:59.479716Z",
     "iopub.status.busy": "2024-03-27T13:09:59.479318Z",
     "iopub.status.idle": "2024-03-27T13:09:59.485330Z",
     "shell.execute_reply": "2024-03-27T13:09:59.484211Z"
    },
    "papermill": {
     "duration": 0.019967,
     "end_time": "2024-03-27T13:09:59.487566",
     "exception": false,
     "start_time": "2024-03-27T13:09:59.467599",
     "status": "completed"
    },
    "tags": []
   },
   "outputs": [
    {
     "data": {
      "text/plain": [
       "1.5"
      ]
     },
     "execution_count": 7,
     "metadata": {},
     "output_type": "execute_result"
    }
   ],
   "source": [
    "# Divisão\n",
    "3 / 2"
   ]
  },
  {
   "cell_type": "code",
   "execution_count": 8,
   "id": "4f5def2b",
   "metadata": {
    "execution": {
     "iopub.execute_input": "2024-03-27T13:09:59.510080Z",
     "iopub.status.busy": "2024-03-27T13:09:59.509618Z",
     "iopub.status.idle": "2024-03-27T13:09:59.515081Z",
     "shell.execute_reply": "2024-03-27T13:09:59.514055Z"
    },
    "papermill": {
     "duration": 0.01978,
     "end_time": "2024-03-27T13:09:59.517648",
     "exception": false,
     "start_time": "2024-03-27T13:09:59.497868",
     "status": "completed"
    },
    "tags": []
   },
   "outputs": [
    {
     "data": {
      "text/plain": [
       "16"
      ]
     },
     "execution_count": 8,
     "metadata": {},
     "output_type": "execute_result"
    }
   ],
   "source": [
    "# Potência\n",
    "4 ** 2"
   ]
  },
  {
   "cell_type": "code",
   "execution_count": 9,
   "id": "db9ac554",
   "metadata": {
    "execution": {
     "iopub.execute_input": "2024-03-27T13:09:59.540262Z",
     "iopub.status.busy": "2024-03-27T13:09:59.539898Z",
     "iopub.status.idle": "2024-03-27T13:09:59.546175Z",
     "shell.execute_reply": "2024-03-27T13:09:59.545371Z"
    },
    "papermill": {
     "duration": 0.020241,
     "end_time": "2024-03-27T13:09:59.548458",
     "exception": false,
     "start_time": "2024-03-27T13:09:59.528217",
     "status": "completed"
    },
    "tags": []
   },
   "outputs": [
    {
     "data": {
      "text/plain": [
       "1"
      ]
     },
     "execution_count": 9,
     "metadata": {},
     "output_type": "execute_result"
    }
   ],
   "source": [
    "# Módulo (resto da divisão)\n",
    "10 % 3"
   ]
  },
  {
   "cell_type": "markdown",
   "id": "955e9ded",
   "metadata": {
    "papermill": {
     "duration": 0.01031,
     "end_time": "2024-03-27T13:09:59.569376",
     "exception": false,
     "start_time": "2024-03-27T13:09:59.559066",
     "status": "completed"
    },
    "tags": []
   },
   "source": [
    "#### Tipo de Dados (Type)"
   ]
  },
  {
   "cell_type": "code",
   "execution_count": 10,
   "id": "7e9128a1",
   "metadata": {
    "execution": {
     "iopub.execute_input": "2024-03-27T13:09:59.592372Z",
     "iopub.status.busy": "2024-03-27T13:09:59.592025Z",
     "iopub.status.idle": "2024-03-27T13:09:59.598387Z",
     "shell.execute_reply": "2024-03-27T13:09:59.597407Z"
    },
    "papermill": {
     "duration": 0.020701,
     "end_time": "2024-03-27T13:09:59.600701",
     "exception": false,
     "start_time": "2024-03-27T13:09:59.580000",
     "status": "completed"
    },
    "tags": []
   },
   "outputs": [
    {
     "data": {
      "text/plain": [
       "int"
      ]
     },
     "execution_count": 10,
     "metadata": {},
     "output_type": "execute_result"
    }
   ],
   "source": [
    "# Qual o tipo do (?) -> Inteiro\n",
    "type(5)"
   ]
  },
  {
   "cell_type": "code",
   "execution_count": 11,
   "id": "8c8f066a",
   "metadata": {
    "execution": {
     "iopub.execute_input": "2024-03-27T13:09:59.628091Z",
     "iopub.status.busy": "2024-03-27T13:09:59.627716Z",
     "iopub.status.idle": "2024-03-27T13:09:59.634486Z",
     "shell.execute_reply": "2024-03-27T13:09:59.633444Z"
    },
    "papermill": {
     "duration": 0.025352,
     "end_time": "2024-03-27T13:09:59.636781",
     "exception": false,
     "start_time": "2024-03-27T13:09:59.611429",
     "status": "completed"
    },
    "tags": []
   },
   "outputs": [
    {
     "data": {
      "text/plain": [
       "float"
      ]
     },
     "execution_count": 11,
     "metadata": {},
     "output_type": "execute_result"
    }
   ],
   "source": [
    "# Qual o tipo do (?) -> Float - Decimal\n",
    "type(5.0)"
   ]
  },
  {
   "cell_type": "code",
   "execution_count": 12,
   "id": "454230ac",
   "metadata": {
    "execution": {
     "iopub.execute_input": "2024-03-27T13:09:59.660362Z",
     "iopub.status.busy": "2024-03-27T13:09:59.660001Z",
     "iopub.status.idle": "2024-03-27T13:09:59.666217Z",
     "shell.execute_reply": "2024-03-27T13:09:59.665196Z"
    },
    "papermill": {
     "duration": 0.021007,
     "end_time": "2024-03-27T13:09:59.668593",
     "exception": false,
     "start_time": "2024-03-27T13:09:59.647586",
     "status": "completed"
    },
    "tags": []
   },
   "outputs": [
    {
     "data": {
      "text/plain": [
       "str"
      ]
     },
     "execution_count": 12,
     "metadata": {},
     "output_type": "execute_result"
    }
   ],
   "source": [
    "# Qual o tipo do (?) -> String\n",
    "a = 'Estudando Python!'\n",
    "type(a)"
   ]
  },
  {
   "cell_type": "markdown",
   "id": "46b3cf05",
   "metadata": {
    "papermill": {
     "duration": 0.010678,
     "end_time": "2024-03-27T13:09:59.690548",
     "exception": false,
     "start_time": "2024-03-27T13:09:59.679870",
     "status": "completed"
    },
    "tags": []
   },
   "source": [
    "#### Condicional if"
   ]
  },
  {
   "cell_type": "code",
   "execution_count": 13,
   "id": "b877c07f",
   "metadata": {
    "execution": {
     "iopub.execute_input": "2024-03-27T13:09:59.714349Z",
     "iopub.status.busy": "2024-03-27T13:09:59.713981Z",
     "iopub.status.idle": "2024-03-27T13:09:59.719099Z",
     "shell.execute_reply": "2024-03-27T13:09:59.718027Z"
    },
    "papermill": {
     "duration": 0.020376,
     "end_time": "2024-03-27T13:09:59.721931",
     "exception": false,
     "start_time": "2024-03-27T13:09:59.701555",
     "status": "completed"
    },
    "tags": []
   },
   "outputs": [
    {
     "name": "stdout",
     "output_type": "stream",
     "text": [
      "A sentença é verdadeira!\n"
     ]
    }
   ],
   "source": [
    "# Condicional if (Se)\n",
    "if 5 > 2:\n",
    "    print(\"A sentença é verdadeira!\")"
   ]
  },
  {
   "cell_type": "code",
   "execution_count": 14,
   "id": "893ce11a",
   "metadata": {
    "execution": {
     "iopub.execute_input": "2024-03-27T13:09:59.745579Z",
     "iopub.status.busy": "2024-03-27T13:09:59.745212Z",
     "iopub.status.idle": "2024-03-27T13:09:59.750499Z",
     "shell.execute_reply": "2024-03-27T13:09:59.749395Z"
    },
    "papermill": {
     "duration": 0.020662,
     "end_time": "2024-03-27T13:09:59.753438",
     "exception": false,
     "start_time": "2024-03-27T13:09:59.732776",
     "status": "completed"
    },
    "tags": []
   },
   "outputs": [
    {
     "name": "stdout",
     "output_type": "stream",
     "text": [
      "A sentença é falsa!\n"
     ]
    }
   ],
   "source": [
    "# Condicional if...else\n",
    "if 5 < 2:\n",
    "    print(\"A sentença é verdadeira!\")\n",
    "else:\n",
    "    print(\"A sentença é falsa!\")"
   ]
  },
  {
   "cell_type": "code",
   "execution_count": 15,
   "id": "b9edd133",
   "metadata": {
    "execution": {
     "iopub.execute_input": "2024-03-27T13:09:59.777958Z",
     "iopub.status.busy": "2024-03-27T13:09:59.777539Z",
     "iopub.status.idle": "2024-03-27T13:09:59.782930Z",
     "shell.execute_reply": "2024-03-27T13:09:59.781922Z"
    },
    "papermill": {
     "duration": 0.021158,
     "end_time": "2024-03-27T13:09:59.785781",
     "exception": false,
     "start_time": "2024-03-27T13:09:59.764623",
     "status": "completed"
    },
    "tags": []
   },
   "outputs": [
    {
     "name": "stdout",
     "output_type": "stream",
     "text": [
      "Hoje vai chover!\n"
     ]
    }
   ],
   "source": [
    "# Condicional if...else com variável\n",
    "dia = \"Quarta-feira\"\n",
    "if dia == \"Sexta-feira\":\n",
    "    print(\"Hoje fará sol!\")\n",
    "else:\n",
    "    print(\"Hoje vai chover!\")"
   ]
  },
  {
   "cell_type": "markdown",
   "id": "4bd1b559",
   "metadata": {
    "papermill": {
     "duration": 0.010859,
     "end_time": "2024-03-27T13:09:59.807965",
     "exception": false,
     "start_time": "2024-03-27T13:09:59.797106",
     "status": "completed"
    },
    "tags": []
   },
   "source": [
    "#### Manipulando arquivos"
   ]
  },
  {
   "cell_type": "markdown",
   "id": "4d631bc1",
   "metadata": {
    "papermill": {
     "duration": 0.01097,
     "end_time": "2024-03-27T13:09:59.830028",
     "exception": false,
     "start_time": "2024-03-27T13:09:59.819058",
     "status": "completed"
    },
    "tags": []
   },
   "source": [
    "#### Lendo arquivos (.txt)"
   ]
  },
  {
   "cell_type": "code",
   "execution_count": 16,
   "id": "4c3ef5b0",
   "metadata": {
    "execution": {
     "iopub.execute_input": "2024-03-27T13:09:59.854436Z",
     "iopub.status.busy": "2024-03-27T13:09:59.853379Z",
     "iopub.status.idle": "2024-03-27T13:09:59.861019Z",
     "shell.execute_reply": "2024-03-27T13:09:59.860151Z"
    },
    "papermill": {
     "duration": 0.022326,
     "end_time": "2024-03-27T13:09:59.863349",
     "exception": false,
     "start_time": "2024-03-27T13:09:59.841023",
     "status": "completed"
    },
    "tags": []
   },
   "outputs": [],
   "source": [
    "# Abrindo o arquivo para leitura\n",
    "a1 = open(\"/kaggle/input/arquivos/arquivo1.txt\", \"r\")"
   ]
  },
  {
   "cell_type": "code",
   "execution_count": 17,
   "id": "8c996f23",
   "metadata": {
    "execution": {
     "iopub.execute_input": "2024-03-27T13:09:59.888123Z",
     "iopub.status.busy": "2024-03-27T13:09:59.887643Z",
     "iopub.status.idle": "2024-03-27T13:09:59.894435Z",
     "shell.execute_reply": "2024-03-27T13:09:59.893138Z"
    },
    "papermill": {
     "duration": 0.021385,
     "end_time": "2024-03-27T13:09:59.896568",
     "exception": false,
     "start_time": "2024-03-27T13:09:59.875183",
     "status": "completed"
    },
    "tags": []
   },
   "outputs": [
    {
     "name": "stdout",
     "output_type": "stream",
     "text": [
      "Arquivo 1 sendo lido\n",
      "\n"
     ]
    }
   ],
   "source": [
    "# Lendo o arquivo\n",
    "print(a1.read())"
   ]
  },
  {
   "cell_type": "markdown",
   "id": "abdcb61b",
   "metadata": {
    "papermill": {
     "duration": 0.011212,
     "end_time": "2024-03-27T13:09:59.918977",
     "exception": false,
     "start_time": "2024-03-27T13:09:59.907765",
     "status": "completed"
    },
    "tags": []
   },
   "source": [
    "#### Gravando arquivos (.txt)"
   ]
  },
  {
   "cell_type": "code",
   "execution_count": 18,
   "id": "57030e61",
   "metadata": {
    "execution": {
     "iopub.execute_input": "2024-03-27T13:09:59.943625Z",
     "iopub.status.busy": "2024-03-27T13:09:59.943213Z",
     "iopub.status.idle": "2024-03-27T13:09:59.951001Z",
     "shell.execute_reply": "2024-03-27T13:09:59.949956Z"
    },
    "papermill": {
     "duration": 0.023035,
     "end_time": "2024-03-27T13:09:59.953224",
     "exception": false,
     "start_time": "2024-03-27T13:09:59.930189",
     "status": "completed"
    },
    "tags": []
   },
   "outputs": [
    {
     "name": "stdout",
     "output_type": "stream",
     "text": [
      "['arquivo1.txt', 'arquivo2.txt']\n"
     ]
    }
   ],
   "source": [
    "import os\n",
    "\n",
    "print(os.listdir(\"/kaggle/input/arquivos/\"))"
   ]
  },
  {
   "cell_type": "code",
   "execution_count": 19,
   "id": "2cb19fac",
   "metadata": {
    "execution": {
     "iopub.execute_input": "2024-03-27T13:09:59.978422Z",
     "iopub.status.busy": "2024-03-27T13:09:59.977274Z",
     "iopub.status.idle": "2024-03-27T13:09:59.982447Z",
     "shell.execute_reply": "2024-03-27T13:09:59.981718Z"
    },
    "papermill": {
     "duration": 0.019932,
     "end_time": "2024-03-27T13:09:59.984642",
     "exception": false,
     "start_time": "2024-03-27T13:09:59.964710",
     "status": "completed"
    },
    "tags": []
   },
   "outputs": [],
   "source": [
    "# Abrindo o arquivo para gravação\n",
    "with open(\"/kaggle/working/arquivo2_escrito.txt\", \"w\") as f:\n",
    "    f.write(\"Aprendendo IA em 2024...\")\n",
    "    "
   ]
  },
  {
   "cell_type": "code",
   "execution_count": 20,
   "id": "2fc3de90",
   "metadata": {
    "execution": {
     "iopub.execute_input": "2024-03-27T13:10:00.009900Z",
     "iopub.status.busy": "2024-03-27T13:10:00.009192Z",
     "iopub.status.idle": "2024-03-27T13:10:00.013482Z",
     "shell.execute_reply": "2024-03-27T13:10:00.012741Z"
    },
    "papermill": {
     "duration": 0.019284,
     "end_time": "2024-03-27T13:10:00.015727",
     "exception": false,
     "start_time": "2024-03-27T13:09:59.996443",
     "status": "completed"
    },
    "tags": []
   },
   "outputs": [],
   "source": [
    "# Abrindo o arquivo para leitura\n",
    "a2 = open(\"/kaggle/working/arquivo2_escrito.txt\", \"r\")"
   ]
  },
  {
   "cell_type": "code",
   "execution_count": 21,
   "id": "e8486297",
   "metadata": {
    "execution": {
     "iopub.execute_input": "2024-03-27T13:10:00.040204Z",
     "iopub.status.busy": "2024-03-27T13:10:00.039825Z",
     "iopub.status.idle": "2024-03-27T13:10:00.045511Z",
     "shell.execute_reply": "2024-03-27T13:10:00.044246Z"
    },
    "papermill": {
     "duration": 0.0207,
     "end_time": "2024-03-27T13:10:00.047821",
     "exception": false,
     "start_time": "2024-03-27T13:10:00.027121",
     "status": "completed"
    },
    "tags": []
   },
   "outputs": [
    {
     "name": "stdout",
     "output_type": "stream",
     "text": [
      "Aprendendo IA em 2024...\n"
     ]
    }
   ],
   "source": [
    "# Imprimindo arquivo\n",
    "print(a2.read())"
   ]
  },
  {
   "cell_type": "code",
   "execution_count": null,
   "id": "7a19066f",
   "metadata": {
    "papermill": {
     "duration": 0.011131,
     "end_time": "2024-03-27T13:10:00.070675",
     "exception": false,
     "start_time": "2024-03-27T13:10:00.059544",
     "status": "completed"
    },
    "tags": []
   },
   "outputs": [],
   "source": []
  }
 ],
 "metadata": {
  "kaggle": {
   "accelerator": "none",
   "dataSources": [
    {
     "datasetId": 4680241,
     "sourceId": 7956930,
     "sourceType": "datasetVersion"
    }
   ],
   "dockerImageVersionId": 30673,
   "isGpuEnabled": false,
   "isInternetEnabled": false,
   "language": "python",
   "sourceType": "notebook"
  },
  "kernelspec": {
   "display_name": "Python 3",
   "language": "python",
   "name": "python3"
  },
  "language_info": {
   "codemirror_mode": {
    "name": "ipython",
    "version": 3
   },
   "file_extension": ".py",
   "mimetype": "text/x-python",
   "name": "python",
   "nbconvert_exporter": "python",
   "pygments_lexer": "ipython3",
   "version": "3.10.13"
  },
  "papermill": {
   "default_parameters": {},
   "duration": 4.257927,
   "end_time": "2024-03-27T13:10:00.401498",
   "environment_variables": {},
   "exception": null,
   "input_path": "__notebook__.ipynb",
   "output_path": "__notebook__.ipynb",
   "parameters": {},
   "start_time": "2024-03-27T13:09:56.143571",
   "version": "2.5.0"
  }
 },
 "nbformat": 4,
 "nbformat_minor": 5
}
